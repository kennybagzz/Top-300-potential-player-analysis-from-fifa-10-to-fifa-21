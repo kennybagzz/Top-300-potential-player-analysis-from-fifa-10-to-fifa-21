{
 "cells": [
  {
   "cell_type": "code",
   "execution_count": 1,
   "id": "2b81ec79",
   "metadata": {},
   "outputs": [],
   "source": [
    "import pandas as pd\n",
    "import numpy as np"
   ]
  },
  {
   "cell_type": "markdown",
   "id": "6d63130a",
   "metadata": {},
   "source": [
    "# Get List Of DataFrames"
   ]
  },
  {
   "cell_type": "code",
   "execution_count": 2,
   "id": "95e262ce",
   "metadata": {},
   "outputs": [],
   "source": [
    "games = ['10', '11', '12', '13', '14', '15', '16','17', '18', '19', '20', '21']\n",
    "list_of_dataframes = []\n",
    "\n",
    "for game in games:\n",
    "    df = pd.read_csv(f\"fifa_{game}_top300_potential_players.csv\")\n",
    "    list_of_dataframes.append((game,df))\n",
    "    "
   ]
  },
  {
   "cell_type": "markdown",
   "id": "48c28c5a",
   "metadata": {},
   "source": [
    "# Merge DataFrames"
   ]
  },
  {
   "cell_type": "code",
   "execution_count": 3,
   "id": "db244248",
   "metadata": {},
   "outputs": [],
   "source": [
    "df_merged = list_of_dataframes[0][1]\n",
    "\n",
    "for i in range(1, len(list_of_dataframes)):\n",
    "    \n",
    "    curr_dataframe = list_of_dataframes[i][1]\n",
    "    prev_year = list_of_dataframes[i-1][0]\n",
    "    curr_year = list_of_dataframes[i][0]\n",
    "\n",
    "    current_merged = df_merged.merge(curr_dataframe, on='player_id', suffixes=(f'_{prev_year}',f'_{curr_year}'), how='outer')\n",
    "    cols_to_drop = [f'Player name_{curr_year}', f'Known as_{curr_year}',f'Fifa 21 overall_rating_{curr_year}', f'Fifa 21 age_{curr_year}', f'Fifa 22 overall_rating_{curr_year}', f'Fifa 22 age_{curr_year}']\n",
    "    current_merged = current_merged.loc[:, [col for col in current_merged.columns if col not in cols_to_drop]]\n",
    "    df_merged = current_merged\n",
    "    \n",
    "    "
   ]
  },
  {
   "cell_type": "code",
   "execution_count": 9,
   "id": "0255be6a",
   "metadata": {},
   "outputs": [
    {
     "data": {
      "text/plain": [
       "217"
      ]
     },
     "execution_count": 9,
     "metadata": {},
     "output_type": "execute_result"
    }
   ],
   "source": []
  },
  {
   "cell_type": "markdown",
   "id": "939e4857",
   "metadata": {},
   "source": [
    "# Testing"
   ]
  },
  {
   "cell_type": "code",
   "execution_count": 5,
   "id": "d86e45af",
   "metadata": {},
   "outputs": [
    {
     "data": {
      "text/plain": [
       "Index(['Player name_10', 'Known as_10', 'player_id', 'position_10',\n",
       "       'nationality_10', 'team_10', 'Fifa 10 Potential rating',\n",
       "       'Fifa 10 overall_rating', 'Fifa 10 age', 'Fifa 11 overall_rating_10',\n",
       "       ...\n",
       "       'Fifa 20 overall_rating', 'Fifa 20 age', 'Fifa 21 overall_rating_20',\n",
       "       'Fifa 21 age_20', 'Fifa 22 overall_rating_20', 'Fifa 22 age_20',\n",
       "       'position_21', 'nationality_21', 'team_21', 'Fifa 21 Potential rating'],\n",
       "      dtype='object', length=217)"
      ]
     },
     "execution_count": 5,
     "metadata": {},
     "output_type": "execute_result"
    }
   ],
   "source": [
    "df_merged.columns"
   ]
  },
  {
   "cell_type": "code",
   "execution_count": 6,
   "id": "93e41996",
   "metadata": {},
   "outputs": [],
   "source": [
    "potential_rating_cols = [col for col in df_merged.columns if 'Potential' in col]"
   ]
  },
  {
   "cell_type": "code",
   "execution_count": 7,
   "id": "a5307fbe",
   "metadata": {},
   "outputs": [
    {
     "data": {
      "text/plain": [
       "Player name_10                        NaN\n",
       "Known as_10                           NaN\n",
       "player_id                          238370\n",
       "position_10                           NaN\n",
       "nationality_10                        NaN\n",
       "                                ...      \n",
       "Fifa 22 age_20                        NaN\n",
       "position_21                        ['CB']\n",
       "nationality_21                    Croatia\n",
       "team_21                     VfL Wolfsburg\n",
       "Fifa 21 Potential rating             85.0\n",
       "Name: 1700, Length: 217, dtype: object"
      ]
     },
     "execution_count": 7,
     "metadata": {},
     "output_type": "execute_result"
    }
   ],
   "source": [
    "df_merged.loc[1700]"
   ]
  },
  {
   "cell_type": "code",
   "execution_count": null,
   "id": "09fc89f3",
   "metadata": {},
   "outputs": [],
   "source": []
  }
 ],
 "metadata": {
  "kernelspec": {
   "display_name": "Python 3",
   "language": "python",
   "name": "python3"
  },
  "language_info": {
   "codemirror_mode": {
    "name": "ipython",
    "version": 3
   },
   "file_extension": ".py",
   "mimetype": "text/x-python",
   "name": "python",
   "nbconvert_exporter": "python",
   "pygments_lexer": "ipython3",
   "version": "3.8.8"
  }
 },
 "nbformat": 4,
 "nbformat_minor": 5
}
